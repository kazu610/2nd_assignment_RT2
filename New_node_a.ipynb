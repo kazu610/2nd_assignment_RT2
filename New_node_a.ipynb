{
 "cells": [
  {
   "cell_type": "markdown",
   "id": "95a578cc",
   "metadata": {},
   "source": [
    "2nd_assignment_RT2\n",
    "=====================\n",
    "\n",
    "Description of this jupyter notebook\n",
    "----------------------------------------------------\n",
    "\n",
    "This jupyter notebook implements following functions;\n",
    "1. User interface to set a new goal and cancel the current goal with the environment map\n",
    "2. Text box with the distance of the closest obstacle\n",
    "3. A plot for the number of reached/cancelled goals\n",
    "\n",
    "Code\n",
    "--------\n",
    "\n",
    "### Imports ###\n"
   ]
  },
  {
   "cell_type": "code",
   "execution_count": 1,
   "id": "7d31a51d",
   "metadata": {
    "ExecuteTime": {
     "end_time": "2023-05-29T10:45:16.820474Z",
     "start_time": "2023-05-29T10:45:15.524818Z"
    }
   },
   "outputs": [],
   "source": [
    "%matplotlib widget\n",
    "\n",
    "import rospy\n",
    "import os\n",
    "import threading\n",
    "import time #wait\n",
    "import sys # standard\n",
    "\n",
    "import actionlib\n",
    "import actionlib.msg\n",
    "# import assignment_2_2022.msg\n",
    "from assignment_2_2022.msg import PlanningAction\n",
    "from nav_msgs.msg import Odometry\n",
    "from sensor_msgs.msg import LaserScan\n",
    "from assignment_2_2022.srv import *\n",
    "from geometry_msgs.msg import Twist, Point, Pose\n",
    "from assignment_2_2022.msg import *\n",
    "\n",
    "import ipywidgets as widgets\n",
    "from ipywidgets import Button, Layout, ButtonStyle, GridBox, VBox, HBox\n",
    "import matplotlib.pyplot as plt\n",
    "from matplotlib.animation import FuncAnimation\n"
   ]
  },
  {
   "cell_type": "markdown",
   "id": "25b05938",
   "metadata": {},
   "source": [
    "### Global variables ###"
   ]
  },
  {
   "cell_type": "code",
   "execution_count": 2,
   "id": "a3e41368",
   "metadata": {
    "ExecuteTime": {
     "end_time": "2023-05-29T10:45:16.838878Z",
     "start_time": "2023-05-29T10:45:16.829273Z"
    }
   },
   "outputs": [],
   "source": [
    "global goal_reached\n",
    "global goal_cancelled\n",
    "goal_reached = 0\n",
    "goal_cancelled = 0\n"
   ]
  },
  {
   "cell_type": "markdown",
   "id": "ea3679fb",
   "metadata": {},
   "source": [
    "### Class for nodeA and inteface ###"
   ]
  },
  {
   "cell_type": "code",
   "execution_count": 3,
   "id": "616ae7a6",
   "metadata": {
    "ExecuteTime": {
     "end_time": "2023-05-29T10:45:17.367780Z",
     "start_time": "2023-05-29T10:45:16.843258Z"
    }
   },
   "outputs": [
    {
     "data": {
      "application/vnd.jupyter.widget-view+json": {
       "model_id": "ab3f088d0ca84cfdbcb5db7fff89e9a8",
       "version_major": 2,
       "version_minor": 0
      },
      "text/plain": [
       "Canvas(toolbar=Toolbar(toolitems=[('Home', 'Reset original view', 'home', 'home'), ('Back', 'Back to previous …"
      ]
     },
     "metadata": {},
     "output_type": "display_data"
    },
    {
     "name": "stdout",
     "output_type": "stream",
     "text": [
      "[INFO] [1685357117.167393, 1213.734000]: This is the user interface.\n"
     ]
    },
    {
     "data": {
      "application/vnd.jupyter.widget-view+json": {
       "model_id": "2664685ab6db4c789d265b4b1be5101d",
       "version_major": 2,
       "version_minor": 0
      },
      "text/plain": [
       "HBox(children=(FloatSlider(value=0.0, continuous_update=False, description='New x:', max=10.0, min=-10.0, read…"
      ]
     },
     "metadata": {},
     "output_type": "display_data"
    },
    {
     "data": {
      "application/vnd.jupyter.widget-view+json": {
       "model_id": "a112a6b6622f42f6afdcb9dcbd146f47",
       "version_major": 2,
       "version_minor": 0
      },
      "text/plain": [
       "HBox(children=(FloatSlider(value=0.0, continuous_update=False, description='New y:', max=10.0, min=-10.0, read…"
      ]
     },
     "metadata": {},
     "output_type": "display_data"
    },
    {
     "data": {
      "application/vnd.jupyter.widget-view+json": {
       "model_id": "1a8c0571391142de80edca9bf5633da0",
       "version_major": 2,
       "version_minor": 0
      },
      "text/plain": [
       "HBox(children=(Button(description='Send new goal', layout=Layout(grid_area='new', width='auto'), style=ButtonS…"
      ]
     },
     "metadata": {},
     "output_type": "display_data"
    },
    {
     "data": {
      "application/vnd.jupyter.widget-view+json": {
       "model_id": "d3b219b011a84aa89666abf8e1d72d1f",
       "version_major": 2,
       "version_minor": 0
      },
      "text/plain": [
       "Output()"
      ]
     },
     "metadata": {},
     "output_type": "display_data"
    }
   ],
   "source": [
    "class Node_A:\n",
    "    \n",
    "    def __init__(self):\n",
    "        \n",
    "        # variables\n",
    "        self.pos_x = 0.0\n",
    "        self.pos_y = 0.0\n",
    "        self.goal_x = 0.0\n",
    "        self.goal_y = 0.0\n",
    "        \n",
    "        self.count_g = 0\n",
    "        \n",
    "        # trajectory\n",
    "        self.data_x = []\n",
    "        self.data_y = []\n",
    "        \n",
    "        self.goal_his_x = []\n",
    "        self.goal_his_y = []\n",
    "        \n",
    "        # moving:True, waiting:False\n",
    "        self.robot_state = False \n",
    "        \n",
    "        # initializes figure and axis for map\n",
    "        self.fig, self.ax = plt.subplots()\n",
    "        self.map_rob, = plt.plot([],[], marker='o',\n",
    "                                 markersize=12,\n",
    "                                 markerfacecolor='b',\n",
    "                                 label='Robot')\n",
    "        self.map_goal_cur, = plt.plot([],[], marker='D',\n",
    "                                 markersize=12,\n",
    "                                 markerfacecolor='g',\n",
    "                                 label='Current goal')\n",
    "        self.map_goal_his, = plt.plot([],[], marker='X',\n",
    "                                 markersize=12,\n",
    "                                 linewidth=0,\n",
    "                                 markerfacecolor='r',\n",
    "                                 label='Reached/cancelled goal')\n",
    "\n",
    "        \n",
    "        # initializes pub and sub\n",
    "        self.pub = rospy.Publisher('/robot_data', Info, queue_size = 1)\n",
    "        self.sub = rospy.Subscriber('/odom', Odometry, self.Info_Callback)\n",
    "        \n",
    "        # waits for service server\n",
    "        rospy.wait_for_service('goal_info')      \n",
    "        # initializes service client\n",
    "        self.srv = rospy.ServiceProxy('goal_info', Goal)\n",
    "        \n",
    "    def map_init(self):\n",
    "        self.ax.set_xlim(-10, 10)\n",
    "        self.ax.set_ylim(-10, 10)\n",
    "        self.ax.set_title('Positions of the robot and goals')\n",
    "        self.ax.set_xlabel('x [m]')\n",
    "        self.ax.set_ylabel('y [m]')\n",
    "        return self.map_rob, self.map_goal_cur, self.map_goal_his\n",
    "    \n",
    "    def map_update(self, frame):\n",
    "        self.map_rob.set_data(self.data_x, self.data_y)\n",
    "        self.map_goal_cur.set_data(self.goal_x, self.goal_y)\n",
    "        self.map_goal_his.set_data(self.goal_his_x, self.goal_his_y)\n",
    "        return self.map_rob, self.map_goal_cur, self.map_goal_his\n",
    "        \n",
    "    def goal_checker(self):\n",
    "        while not rospy.is_shutdown():\n",
    "            goals = self.srv(0)\n",
    "            global goal_reached, goal_cancelled\n",
    "            goal_reached = goals.total_r\n",
    "            goal_cancelled = goals.total_c\n",
    "            time.sleep(1)\n",
    "    \n",
    "    def Actionclient(self):\n",
    "        # initializes action client\n",
    "        self.client = actionlib.SimpleActionClient('/reaching_goal', assignment_2_2022.msg.PlanningAction)\n",
    "        # waits for server's running\n",
    "        rospy.loginfo('Waiting for server.')\n",
    "        self.client.wait_for_server()\n",
    "        # creates a goal to send\n",
    "        self.goal = assignment_2_2022.msg.PlanningGoal()\n",
    "        rospy.spin()\n",
    "    \n",
    "    def Info_Callback(self, msg):\n",
    "        self.pos_x = msg.pose.pose.position.x\n",
    "        self.pos_y = msg.pose.pose.position.y\n",
    "        self.data_x.append(self.pos_x)\n",
    "        self.data_y.append(self.pos_y)\n",
    "        info = Info()\n",
    "        info.x = msg.pose.pose.position.x\n",
    "        info.y = msg.pose.pose.position.y\n",
    "        info.vel_x = msg.twist.twist.linear.x\n",
    "        info.vel_y = msg.twist.twist.linear.y\n",
    "        self.pub.publish(info)\n",
    "            \n",
    "    def Interface(self):\n",
    "        # message for user\n",
    "        rospy.loginfo('This is the user interface.')\n",
    "        \n",
    "        # sliders to set new goal position\n",
    "        self.new_goal_x = widgets.FloatSlider(\n",
    "            value=0.0,\n",
    "            min=-10,\n",
    "            max=10.0,\n",
    "            step=0.1,\n",
    "            description='New x:',\n",
    "            disabled=False,\n",
    "            continuous_update=False,\n",
    "            orientation='horizontal',\n",
    "            readout=True,\n",
    "            readout_format='.1f',\n",
    "        )\n",
    "        \n",
    "        self.new_goal_y = widgets.FloatSlider(\n",
    "            value=0.0,\n",
    "            min=-10,\n",
    "            max=10.0,\n",
    "            step=0.1,\n",
    "            description='New y:',\n",
    "            disabled=False,\n",
    "            continuous_update=False,\n",
    "            orientation='horizontal',\n",
    "            readout=True,\n",
    "            readout_format='.1f',\n",
    "        )\n",
    "        \n",
    "        # text boxes for setting new goal\n",
    "        self.new_goal_X = widgets.FloatText()\n",
    "        self.new_goal_Y = widgets.FloatText()\n",
    "        \n",
    "        # buttons to send/cancel goal\n",
    "        self.button_new = Button(\n",
    "            description='Send new goal',\n",
    "            layout=Layout(width='auto',align=\"center\",grid_area='new'),\n",
    "            style=ButtonStyle(button_color='mediumaquamarine')\n",
    "        )\n",
    "        \n",
    "        self.button_cancel = Button(\n",
    "            description='Cancel current goal',\n",
    "            layout=Layout(width='auto', grid_area='cancel'),\n",
    "            style=ButtonStyle(button_color='lightsalmon')\n",
    "        )\n",
    "        \n",
    "        # values for buttons\n",
    "        self.button_new.value = 1\n",
    "        self.button_cancel.value = 2\n",
    "        \n",
    "        # output for widgets\n",
    "        self.output = widgets.Output()\n",
    "        \n",
    "        # on_click functions\n",
    "        self.button_new.on_click(self.on_button_clicked)\n",
    "        self.button_cancel.on_click(self.on_button_clicked)\n",
    "\n",
    "        \n",
    "        box1 = widgets.HBox([self.new_goal_x, self.new_goal_X])\n",
    "        box2 = widgets.HBox([self.new_goal_y, self.new_goal_Y])\n",
    "        box3 = widgets.HBox([self.button_new, self.button_cancel])\n",
    "        \n",
    "        mylink1 = widgets.jslink((self.new_goal_x, 'value'), (self.new_goal_X, 'value'))\n",
    "        mylink2 = widgets.jslink((self.new_goal_y, 'value'), (self.new_goal_Y, 'value'))\n",
    "        \n",
    "        display(box1)\n",
    "        display(box2)\n",
    "        display(box3)\n",
    "        display(self.output)\n",
    "    \n",
    "    def on_button_clicked(self,b):\n",
    "        self.output.clear_output(True)\n",
    "        with self.output:\n",
    "            if b.value == 1:\n",
    "                if self.count_g != 0:\n",
    "                    self.goal_his_x.append(self.goal_x)\n",
    "                    self.goal_his_y.append(self.goal_y)\n",
    "                self.goal.target_pose.pose.position.x = float(self.new_goal_x.value)\n",
    "                self.goal.target_pose.pose.position.y = float(self.new_goal_y.value)\n",
    "                self.client.send_goal(self.goal)\n",
    "                rospy.loginfo('The new goal was sent.')\n",
    "                self.goal_x = self.new_goal_x.value\n",
    "                self.goal_y = self.new_goal_y.value\n",
    "                self.robot_state = True\n",
    "                self.count_g += 1\n",
    "            elif b.value == 2:\n",
    "                if self.robot_state == True and (abs(self.goal_x-self.pos_x) > 1 or abs(self.goal_y-self.pos_y) > 1):\n",
    "                    self.client.cancel_goal()\n",
    "                    rospy.loginfo('The current goal was cancelled.')\n",
    "                    resp = self.srv(1)\n",
    "                    self.goal_his_x.append(self.goal_x)\n",
    "                    self.goal_his_y.append(self.goal_y)\n",
    "                self.robot_state = False\n",
    "    \n",
    "\n",
    "        \n",
    "rospy.init_node('Node_A')\n",
    "node_a = Node_A()\n",
    "\n",
    "node_a.Interface()\n",
    "\n",
    "# threads\n",
    "thread1 = threading.Thread(target=node_a.Actionclient)\n",
    "thread2 = threading.Thread(target=node_a.goal_checker)\n",
    "thread1.start()\n",
    "thread2.start()\n",
    "\n",
    "map_ani = FuncAnimation(node_a.fig, node_a.map_update, init_func=node_a.map_init, cache_frame_data=False)\n",
    "\n",
    "plt.legend()\n",
    "plt.show(block=False)\n"
   ]
  },
  {
   "cell_type": "markdown",
   "id": "a5596d51",
   "metadata": {},
   "source": [
    "### Closest obstacle distance ###"
   ]
  },
  {
   "cell_type": "code",
   "execution_count": 4,
   "id": "17b1532a",
   "metadata": {
    "ExecuteTime": {
     "end_time": "2023-05-29T10:45:17.474640Z",
     "start_time": "2023-05-29T10:45:17.381795Z"
    }
   },
   "outputs": [
    {
     "data": {
      "application/vnd.jupyter.widget-view+json": {
       "model_id": "74d3670529a94366ada9e0b974518cd7",
       "version_major": 2,
       "version_minor": 0
      },
      "text/plain": [
       "FloatText(value=0.0, continuous_update=True, description='Closest obstacle:')"
      ]
     },
     "metadata": {},
     "output_type": "display_data"
    },
    {
     "name": "stdout",
     "output_type": "stream",
     "text": [
      "[INFO] [1685357117.444903, 1213.988000]: Waiting for server.\n"
     ]
    }
   ],
   "source": [
    "global closest_obs\n",
    "def Laser_Callback(msg):\n",
    "    closest_obs.value = min(msg.ranges)\n",
    "    # rospy.loginfo(closest_obs.value)\n",
    "\n",
    "sub_laser = rospy.Subscriber('/scan', LaserScan, Laser_Callback)\n",
    "closest_obs = widgets.FloatText(\n",
    "    value=0.0,\n",
    "    description='Closest obstacle:',\n",
    "    disabled=False,\n",
    "    continuous_update=True,\n",
    "    readout_format='.3f',\n",
    ")\n",
    "display(closest_obs)\n"
   ]
  },
  {
   "cell_type": "markdown",
   "id": "5a73ab9c",
   "metadata": {},
   "source": [
    "### Class for goal counter ###"
   ]
  },
  {
   "cell_type": "code",
   "execution_count": 5,
   "id": "12edd7e0",
   "metadata": {
    "ExecuteTime": {
     "end_time": "2023-05-29T10:45:17.592329Z",
     "start_time": "2023-05-29T10:45:17.486253Z"
    }
   },
   "outputs": [
    {
     "data": {
      "application/vnd.jupyter.widget-view+json": {
       "model_id": "e9760d6a36f04239b180a3f7f86f1b63",
       "version_major": 2,
       "version_minor": 0
      },
      "text/plain": [
       "Canvas(toolbar=Toolbar(toolitems=[('Home', 'Reset original view', 'home', 'home'), ('Back', 'Back to previous …"
      ]
     },
     "metadata": {},
     "output_type": "display_data"
    }
   ],
   "source": [
    "class Goal_counter:\n",
    "    def __init__(self):\n",
    "        # initializes figure and axis for map\n",
    "        self.fig, self.ax = plt.subplots()\n",
    "        self.labels = ['Cancelled', 'Reached']\n",
    "        global goal_reached, goal_cancelled\n",
    "        self.values = [goal_cancelled, goal_reached]\n",
    "        self.colors = ['darkred', 'navy']\n",
    "        self.goal_plot = self.ax.barh(self.labels, \n",
    "                                  self.values,\n",
    "                                  color=self.colors,\n",
    "                                  alpha=0.7,\n",
    "                                  \n",
    "                                 )\n",
    "    \n",
    "    def plot_init(self):\n",
    "        self.ax.set_xlim(0, 10)\n",
    "        self.ax.set_title('Number of reached/cancelled goals')\n",
    "        self.ax.set_ylabel('Type of goals')\n",
    "        self.ax.set_xlabel('Number')\n",
    "        return self.goal_plot\n",
    "    \n",
    "    def plot_update(self, frame):\n",
    "        global goal_reached, goal_cancelled\n",
    "        self.goal_plot[0].set_width(goal_cancelled)\n",
    "        self.goal_plot[1].set_width(goal_reached)\n",
    "        return self.goal_plot\n",
    "    \n",
    "goal_num = Goal_counter()\n",
    "goal_ani = FuncAnimation(goal_num.fig, goal_num.plot_update, init_func=goal_num.plot_init, cache_frame_data=False)\n",
    "\n",
    "plt.show(block=False)\n"
   ]
  }
 ],
 "metadata": {
  "hide_input": true,
  "kernelspec": {
   "display_name": "Python 3 (ipykernel)",
   "language": "python",
   "name": "python3"
  },
  "language_info": {
   "codemirror_mode": {
    "name": "ipython",
    "version": 3
   },
   "file_extension": ".py",
   "mimetype": "text/x-python",
   "name": "python",
   "nbconvert_exporter": "python",
   "pygments_lexer": "ipython3",
   "version": "3.8.5"
  },
  "toc": {
   "base_numbering": 1,
   "nav_menu": {},
   "number_sections": true,
   "sideBar": true,
   "skip_h1_title": false,
   "title_cell": "Table of Contents",
   "title_sidebar": "Contents",
   "toc_cell": false,
   "toc_position": {},
   "toc_section_display": true,
   "toc_window_display": false
  },
  "varInspector": {
   "cols": {
    "lenName": 16,
    "lenType": 16,
    "lenVar": 40
   },
   "kernels_config": {
    "python": {
     "delete_cmd_postfix": "",
     "delete_cmd_prefix": "del ",
     "library": "var_list.py",
     "varRefreshCmd": "print(var_dic_list())"
    },
    "r": {
     "delete_cmd_postfix": ") ",
     "delete_cmd_prefix": "rm(",
     "library": "var_list.r",
     "varRefreshCmd": "cat(var_dic_list()) "
    }
   },
   "types_to_exclude": [
    "module",
    "function",
    "builtin_function_or_method",
    "instance",
    "_Feature"
   ],
   "window_display": false
  }
 },
 "nbformat": 4,
 "nbformat_minor": 5
}
