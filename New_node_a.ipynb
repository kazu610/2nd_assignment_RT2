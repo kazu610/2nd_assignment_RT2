{
 "cells": [
  {
   "cell_type": "code",
   "execution_count": null,
   "id": "dda0574f",
   "metadata": {
    "ExecuteTime": {
     "end_time": "2023-05-18T13:54:02.413970Z",
     "start_time": "2023-05-18T13:54:02.408412Z"
    }
   },
   "outputs": [],
   "source": []
  },
  {
   "cell_type": "code",
   "execution_count": 1,
   "id": "7d31a51d",
   "metadata": {
    "ExecuteTime": {
     "end_time": "2023-05-18T14:44:17.297751Z",
     "start_time": "2023-05-18T14:44:16.234154Z"
    }
   },
   "outputs": [],
   "source": [
    "%matplotlib widget\n",
    "import rospy\n",
    "import os\n",
    "import threading\n",
    "import time #wait\n",
    "import sys # standard\n",
    "\n",
    "import actionlib\n",
    "import actionlib.msg\n",
    "# import assignment_2_2022.msg\n",
    "from assignment_2_2022.msg import PlanningAction\n",
    "from nav_msgs.msg import Odometry\n",
    "from sensor_msgs.msg import LaserScan\n",
    "from assignment_2_2022.srv import *\n",
    "from geometry_msgs.msg import Twist, Point, Pose\n",
    "from assignment_2_2022.msg import *\n",
    "\n",
    "import ipywidgets as widgets\n",
    "from ipywidgets import Button, Layout, ButtonStyle, GridBox, VBox, HBox\n",
    "import matplotlib.pyplot as plt\n"
   ]
  },
  {
   "cell_type": "code",
   "execution_count": 2,
   "id": "616ae7a6",
   "metadata": {
    "ExecuteTime": {
     "end_time": "2023-05-18T14:44:17.350928Z",
     "start_time": "2023-05-18T14:44:17.304413Z"
    }
   },
   "outputs": [],
   "source": [
    "class Node_A:\n",
    "    \n",
    "    def __init__(self):\n",
    "        \n",
    "        # variables\n",
    "        self.pos_x = 0.0\n",
    "        self.pos_y = 0.0\n",
    "        self.goal_x = 0.0\n",
    "        self.goal_y = 0.0\n",
    "        \n",
    "        self.robot_state = False # moving:True, waiting:False\n",
    "        self.goal_reached = 0\n",
    "        self.goal_cancelled = 0\n",
    "        \n",
    "        # initializes pub and sub\n",
    "        self.pub = rospy.Publisher('/robot_data', Info, queue_size = 1)\n",
    "        self.sub = rospy.Subscriber('/odom', Odometry, self.Info_Callback)\n",
    "        \n",
    "        # waits for service server\n",
    "        rospy.wait_for_service('goal_info')      \n",
    "        # initializes service client\n",
    "        self.srv = rospy.ServiceProxy('goal_info', Goal)\n",
    "        \n",
    "    def goal_checker(self):\n",
    "        while not rospy.is_shutdown():\n",
    "            goals = self.srv(0)\n",
    "            self.goal_reached = goals.total_r\n",
    "            self.goal_cancelled = goals.total_c\n",
    "            time.sleep(1)\n",
    "    \n",
    "    def Actionclient(self):\n",
    "        # initializes action client\n",
    "        self.client = actionlib.SimpleActionClient('/reaching_goal', assignment_2_2022.msg.PlanningAction)\n",
    "        # waits for server's running\n",
    "        rospy.loginfo('Waiting for server.')\n",
    "        self.client.wait_for_server()\n",
    "        # creates a goal to send\n",
    "        self.goal = assignment_2_2022.msg.PlanningGoal()\n",
    "        rospy.spin()\n",
    "    \n",
    "    def Info_Callback(self, msg):\n",
    "        self.pos_x = msg.pose.pose.position.x\n",
    "        self.pos_y = msg.pose.pose.position.y\n",
    "        info = Info()\n",
    "        info.x = msg.pose.pose.position.x\n",
    "        info.y = msg.pose.pose.position.y\n",
    "        info.vel_x = msg.twist.twist.linear.x\n",
    "        info.vel_y = msg.twist.twist.linear.y\n",
    "        self.pub.publish(info)\n",
    "            \n",
    "    def Interface(self):\n",
    "        # message for user\n",
    "        rospy.loginfo('This is the user interface.')\n",
    "        \n",
    "        # sliders to set new goal position\n",
    "        self.new_goal_x = widgets.FloatSlider(\n",
    "            value=0.0,\n",
    "            min=-10,\n",
    "            max=10.0,\n",
    "            step=0.1,\n",
    "            description='New x:',\n",
    "            disabled=False,\n",
    "            continuous_update=False,\n",
    "            orientation='horizontal',\n",
    "            readout=True,\n",
    "            readout_format='.1f',\n",
    "        )\n",
    "        \n",
    "        self.new_goal_y = widgets.FloatSlider(\n",
    "            value=0.0,\n",
    "            min=-10,\n",
    "            max=10.0,\n",
    "            step=0.1,\n",
    "            description='New y:',\n",
    "            disabled=False,\n",
    "            continuous_update=False,\n",
    "            orientation='horizontal',\n",
    "            readout=True,\n",
    "            readout_format='.1f',\n",
    "        )\n",
    "        \n",
    "        # text boxes for setting new goal\n",
    "        self.new_goal_X = widgets.FloatText()\n",
    "        self.new_goal_Y = widgets.FloatText()\n",
    "        \n",
    "        # buttons to send/cancel goal\n",
    "        self.button_new = Button(\n",
    "            description='Send new goal',\n",
    "            layout=Layout(width='auto',align=\"center\",grid_area='new'),\n",
    "            style=ButtonStyle(button_color='mediumaquamarine')\n",
    "        )\n",
    "        \n",
    "        self.button_cancel = Button(\n",
    "            description='Cancel current goal',\n",
    "            layout=Layout(width='auto', grid_area='cancel'),\n",
    "            style=ButtonStyle(button_color='lightsalmon')\n",
    "        )\n",
    "        \n",
    "        # values for buttons\n",
    "        self.button_new.value = 1\n",
    "        self.button_cancel.value = 2\n",
    "        \n",
    "        # output for widgets\n",
    "        self.output = widgets.Output()\n",
    "        \n",
    "        # on_click functions\n",
    "        self.button_new.on_click(self.on_button_clicked)\n",
    "        self.button_cancel.on_click(self.on_button_clicked)\n",
    "\n",
    "        \n",
    "        box1 = widgets.HBox([self.new_goal_x, self.new_goal_X])\n",
    "        box2 = widgets.HBox([self.new_goal_y, self.new_goal_Y])\n",
    "        box3 = widgets.HBox([self.button_new, self.button_cancel])\n",
    "        \n",
    "        mylink1 = widgets.jslink((self.new_goal_x, 'value'), (self.new_goal_X, 'value'))\n",
    "        mylink2 = widgets.jslink((self.new_goal_y, 'value'), (self.new_goal_Y, 'value'))\n",
    "        \n",
    "        display(box1)\n",
    "        display(box2)\n",
    "        display(box3)\n",
    "        display(self.output)\n",
    "    \n",
    "    def on_button_clicked(self,b):\n",
    "        self.output.clear_output(True)\n",
    "        with self.output:\n",
    "            if b.value == 1:\n",
    "                self.goal.target_pose.pose.position.x = float(self.new_goal_x.value)\n",
    "                self.goal.target_pose.pose.position.y = float(self.new_goal_y.value)\n",
    "                self.client.send_goal(self.goal)\n",
    "                rospy.loginfo('The new goal was sent.')\n",
    "                self.goal_x = self.new_goal_x.value\n",
    "                self.goal_y = self.new_goal_y.value\n",
    "                self.robot_state = True\n",
    "            elif b.value == 2:\n",
    "                if self.robot_state == True and (abs(self.goal_x-self.pos_x) > 1 or abs(self.goal_y-self.pos_y) > 1):\n",
    "                    self.client.cancel_goal()\n",
    "                    rospy.loginfo('The current goal was cancelled.')\n",
    "                    resp = self.srv(1)\n",
    "                self.robot_state = False\n",
    "    \n",
    "\n",
    "        \n",
    "    "
   ]
  },
  {
   "cell_type": "code",
   "execution_count": 3,
   "id": "e28eb864",
   "metadata": {
    "ExecuteTime": {
     "end_time": "2023-05-18T14:44:18.015367Z",
     "start_time": "2023-05-18T14:44:17.359319Z"
    }
   },
   "outputs": [
    {
     "name": "stdout",
     "output_type": "stream",
     "text": [
      "[INFO] [1684421057.788145, 0.000000]: This is the user interface.\n"
     ]
    },
    {
     "data": {
      "application/vnd.jupyter.widget-view+json": {
       "model_id": "11389a8d21d5448e8ec2bff3f8f18ff4",
       "version_major": 2,
       "version_minor": 0
      },
      "text/plain": [
       "HBox(children=(FloatSlider(value=0.0, continuous_update=False, description='New x:', max=10.0, min=-10.0, read…"
      ]
     },
     "metadata": {},
     "output_type": "display_data"
    },
    {
     "data": {
      "application/vnd.jupyter.widget-view+json": {
       "model_id": "451ce431eb1142e280b9972650751a45",
       "version_major": 2,
       "version_minor": 0
      },
      "text/plain": [
       "HBox(children=(FloatSlider(value=0.0, continuous_update=False, description='New y:', max=10.0, min=-10.0, read…"
      ]
     },
     "metadata": {},
     "output_type": "display_data"
    },
    {
     "data": {
      "application/vnd.jupyter.widget-view+json": {
       "model_id": "e252aa9f3083432f9b99ca2eaea9751d",
       "version_major": 2,
       "version_minor": 0
      },
      "text/plain": [
       "HBox(children=(Button(description='Send new goal', layout=Layout(grid_area='new', width='auto'), style=ButtonS…"
      ]
     },
     "metadata": {},
     "output_type": "display_data"
    },
    {
     "data": {
      "application/vnd.jupyter.widget-view+json": {
       "model_id": "bfd611846cf04e329ce13ba9a2dfaa1f",
       "version_major": 2,
       "version_minor": 0
      },
      "text/plain": [
       "Output()"
      ]
     },
     "metadata": {},
     "output_type": "display_data"
    }
   ],
   "source": [
    "rospy.init_node('Node_A')\n",
    "node_a = Node_A()\n",
    "\n",
    "node_a.Interface()\n",
    "    \n",
    "# thread1\n",
    "thread1 = threading.Thread(target=node_a.Actionclient)\n",
    "thread2 = threading.Thread(target=node_a.goal_checker)\n",
    "thread1.start()\n",
    "thread2.start()\n"
   ]
  },
  {
   "cell_type": "code",
   "execution_count": 4,
   "id": "b71554b3",
   "metadata": {
    "ExecuteTime": {
     "end_time": "2023-05-18T14:44:18.121204Z",
     "start_time": "2023-05-18T14:44:18.081579Z"
    },
    "scrolled": true
   },
   "outputs": [
    {
     "name": "stdout",
     "output_type": "stream",
     "text": [
      "[INFO] [1684421058.034460, 1287.309000]: Waiting for server.\n"
     ]
    }
   ],
   "source": [
    "class Plot:\n",
    "    def __init__(self):\n",
    "        goal_reached = 0\n",
    "        goal_cancelled = 0\n",
    "        \n",
    "        # makes the base of the plot\n",
    "\n",
    "        \n",
    "        \n",
    "        \n",
    "        "
   ]
  },
  {
   "cell_type": "code",
   "execution_count": 5,
   "id": "17b1532a",
   "metadata": {
    "ExecuteTime": {
     "end_time": "2023-05-18T14:44:18.213293Z",
     "start_time": "2023-05-18T14:44:18.130105Z"
    }
   },
   "outputs": [
    {
     "data": {
      "application/vnd.jupyter.widget-view+json": {
       "model_id": "9cacc9d6a8bd4ea1a67b6482f578a0bd",
       "version_major": 2,
       "version_minor": 0
      },
      "text/plain": [
       "FloatText(value=0.0, continuous_update=True, description='Closest obstacle:')"
      ]
     },
     "metadata": {},
     "output_type": "display_data"
    }
   ],
   "source": [
    "global closest_obs\n",
    "def Laser_Callback(msg):\n",
    "    closest_obs.value = min(msg.ranges)\n",
    "    # rospy.loginfo(closest_obs.value)\n",
    "\n",
    "sub_laser = rospy.Subscriber('/scan', LaserScan, Laser_Callback)\n",
    "closest_obs = widgets.FloatText(\n",
    "    value=0.0,\n",
    "    description='Closest obstacle:',\n",
    "    disabled=False,\n",
    "    continuous_update=True,\n",
    "    readout_format='.3f',\n",
    ")\n",
    "display(closest_obs)\n"
   ]
  }
 ],
 "metadata": {
  "hide_input": false,
  "kernelspec": {
   "display_name": "Python 3 (ipykernel)",
   "language": "python",
   "name": "python3"
  },
  "language_info": {
   "codemirror_mode": {
    "name": "ipython",
    "version": 3
   },
   "file_extension": ".py",
   "mimetype": "text/x-python",
   "name": "python",
   "nbconvert_exporter": "python",
   "pygments_lexer": "ipython3",
   "version": "3.8.5"
  },
  "toc": {
   "base_numbering": 1,
   "nav_menu": {},
   "number_sections": true,
   "sideBar": true,
   "skip_h1_title": false,
   "title_cell": "Table of Contents",
   "title_sidebar": "Contents",
   "toc_cell": false,
   "toc_position": {},
   "toc_section_display": true,
   "toc_window_display": false
  },
  "varInspector": {
   "cols": {
    "lenName": 16,
    "lenType": 16,
    "lenVar": 40
   },
   "kernels_config": {
    "python": {
     "delete_cmd_postfix": "",
     "delete_cmd_prefix": "del ",
     "library": "var_list.py",
     "varRefreshCmd": "print(var_dic_list())"
    },
    "r": {
     "delete_cmd_postfix": ") ",
     "delete_cmd_prefix": "rm(",
     "library": "var_list.r",
     "varRefreshCmd": "cat(var_dic_list()) "
    }
   },
   "types_to_exclude": [
    "module",
    "function",
    "builtin_function_or_method",
    "instance",
    "_Feature"
   ],
   "window_display": false
  }
 },
 "nbformat": 4,
 "nbformat_minor": 5
}
